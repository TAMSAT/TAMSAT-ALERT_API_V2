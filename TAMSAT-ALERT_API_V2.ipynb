{
 "cells": [
  {
   "cell_type": "markdown",
   "id": "554a2b3a-44d6-4ea3-a7e5-a2fead7fe54b",
   "metadata": {},
   "source": [
    "# TAMSAT-ALERT API for soil moisture (Version 2)\n",
    "\n",
    "The TAMSAT-ALERT API is software (Python code) designed to allow users to easily generate tailored agricultural drought information for their crop growing season using TAMSAT soil moisture estimates and forecasts. The API provides both soil moisture conditions from the start of the season up to a current date in the season as well as forecasts out to the end of the season.\n",
    "The software is designed so that users do not need to edit the Python code and only need provide minimal inputs to allow the API to run, namely:\n",
    "* Period of interest\n",
    "* Region of interest\n",
    "* The current date\n",
    "* The climatological period from which soil moisture anomalies are derived\n",
    "* Meteorological tercile forecast weights\n",
    "\n",
    "With this information, the API will download the required data, compute the drought metrics, apply the forecast weightings and output the drought metrics in several formats, depending on the data type.\n",
    "\n",
    "### How to run this Notebook\n",
    "To run this Notebook, users must complete each of the six input arguments below (example options have been provided). Once these arguments have been provided, click on the 'Run' button above. This will execute each cell in the Notebook sequentially. Things to note:\n",
    "* `[ ]` on the left hand side of each cell indicates the cell has not been executed yet.\n",
    "*`[*]` on the left hand side of the cell indicates the process indicated in the cell is being processed. You will not be able to move to the next cell if the current cell is still processing.\n",
    "* When a number appears in `[ ]` (e.g. `[2]`) - this signifies the process for that call has finished. You can then move onto the next cell. The number increases by 1 for each cell executed.\n",
    "\n",
    "### Outputs\n",
    "If the API completes successfully, outputs will be saved in a folder called `Outputs` in the same directory as the API Python code. Within `Outputs`, a subdirectory will be created for each API run. This subdirectory will be labelled as follows: `<current_date>`_`<date-time>` where:\n",
    "* `current_date` is the date in the season up to which soil moisture estimates are considered and soil moisture forecasts are considered from the day afterwards (see input argument [3] below)\n",
    "* `date-time` is the date and time at which the API was executed. \n",
    "Within this subdirectories, outputs are split between `data` and `images`.\n",
    "\n",
    "### Troubleshooting\n",
    "* If you need to stop any process, click on the stop button above (indicated by a black square next to the 'Run' button).\n",
    "* If you need to refresh the Notebook, click on the 'Kernel' button above and select 'Restart & Clear Output' and then click on the red button that appears. This will allow you to begin the Notebook from the start."
   ]
  },
  {
   "cell_type": "markdown",
   "id": "6f5a82f2-e905-4734-871d-4996e3bc19db",
   "metadata": {},
   "source": [
    "### Required API input arguments\n",
    "Make sure all six fields are completed."
   ]
  },
  {
   "cell_type": "markdown",
   "id": "5d74306c-56f6-4fd1-8fd1-e4db384ddcc4",
   "metadata": {},
   "source": [
    "##### [1] Start date for period of interest\n",
    "Start date for period of interest, usually the start of the growing season - can be either a fixed date in format YYYY-MM-DD or a file path of a gridded file (netCDF format with filename ending in `.nc`) giving spatially varying start dates."
   ]
  },
  {
   "cell_type": "code",
   "execution_count": 4,
   "id": "91857f2a-59c7-43fb-a992-8b3b00d8894f",
   "metadata": {},
   "outputs": [],
   "source": [
    "poi_start = '2024-03-01'"
   ]
  },
  {
   "cell_type": "markdown",
   "id": "56e17ecd-8563-4774-af78-0acda8634c79",
   "metadata": {},
   "source": [
    "##### [2] End date for period of interest\n",
    "End date for period of interest, usually the end of the growing season - can be either a fixed date (in format YYYY-MM-DD (e.g., 2025-01-16) or a file path of a gridded file (netCDF format with filname ending in `.nc`) giving spatially varying end dates."
   ]
  },
  {
   "cell_type": "code",
   "execution_count": 6,
   "id": "df75e4f8-5cba-4570-8660-17183afa9a33",
   "metadata": {},
   "outputs": [],
   "source": [
    "poi_end = '2024-05-31'"
   ]
  },
  {
   "cell_type": "markdown",
   "id": "39751e67-5b53-47d2-bd4e-9bd8dc55c81a",
   "metadata": {},
   "source": [
    "##### [3] Current date\n",
    "Date in the season up to which soil moisture estimates are considered and soil moisture forecasts are considered from the day afterwards - must be in format YYYY-MM-DD or the string 'LATEST' if wanting to use the most recent soil moisture estimates."
   ]
  },
  {
   "cell_type": "code",
   "execution_count": 8,
   "id": "76e88916-b0b5-4100-89d6-98fc2f768cf9",
   "metadata": {},
   "outputs": [],
   "source": [
    "current_date = '2024-04-20'"
   ]
  },
  {
   "cell_type": "markdown",
   "id": "f8e7ba1b-5cdc-4e59-9604-33e0c9349ece",
   "metadata": {},
   "source": [
    "##### [4] Climatology reference period\n",
    "The start and end year of the climatological period over which anomalies are computed - must be two comma-separated years as integer (e.g. 1991,2020)."
   ]
  },
  {
   "cell_type": "code",
   "execution_count": 10,
   "id": "4991112e-5503-4dc3-a9a5-0aa85d51ec52",
   "metadata": {},
   "outputs": [],
   "source": [
    "clim_years = '1991,2020'"
   ]
  },
  {
   "cell_type": "markdown",
   "id": "7cffb022-a2c8-4c8a-aeb4-d2034fc4cd52",
   "metadata": {},
   "source": [
    "##### [5] Domain coordinates\n",
    "Coordinates of domain of interest (N,S,W,E). Must be a comma-separated list of four numbers (e.g. 6,-5,32,43)."
   ]
  },
  {
   "cell_type": "code",
   "execution_count": 12,
   "id": "cb944aa5-6722-4604-9a94-e367e1b32a4e",
   "metadata": {},
   "outputs": [],
   "source": [
    "coords = '6,-5,32,43'"
   ]
  },
  {
   "cell_type": "markdown",
   "id": "21bb8d0f-455e-49f5-b727-e5df550b26d9",
   "metadata": {},
   "source": [
    "##### [6] Meteorological weights to adjust the soil moisture forecasts\n",
    "Weights can be a list of three numbers if using own tercile weights (e.g. weights=0.3,0.4,0.3 which corresponds to [above, normal, below]) or 'ECMWF_S2S' if using the S2S tercile six-week precipitation forecasts from the European Centre for Medium Range Weather Forecasts."
   ]
  },
  {
   "cell_type": "code",
   "execution_count": 14,
   "id": "bd2cbc95-4620-436c-b37f-0b4f84722e45",
   "metadata": {},
   "outputs": [],
   "source": [
    "weights = '0.33,0.34,0.33'"
   ]
  },
  {
   "cell_type": "markdown",
   "id": "b0d35726-f0a9-4595-835f-bd8aa53d1d55",
   "metadata": {},
   "source": [
    "Running the block below will now execute the TAMSAT-ALERT API using the inputs provided above."
   ]
  },
  {
   "cell_type": "code",
   "execution_count": 16,
   "id": "193b0ac2-26cf-4e04-b45b-db45de83cea2",
   "metadata": {},
   "outputs": [
    {
     "name": "stdout",
     "output_type": "stream",
     "text": [
      "==================================================\n",
      "--- Executing the TAMSAT-ALERT API (Version 2) ---\n",
      "==================================================\n",
      "Season start: 2024-03-01\n",
      "Season end: 2024-05-31\n",
      "Current date: 2024-04-20\n",
      "Climatological period: 1991-2020\n",
      "Domain coordinates: N:6.0, S:-5.0, W:32.0, E:43.0\n",
      "Tercile weights: Upper:0.33, Middle:0.34, Lower:0.33\n",
      "-> Downloading required historical soil moisture files, this might take a few minutes ...\n",
      "-> Downloading required historical rainfall files, this might take a few minutes ...\n",
      "-> Tercile probabilities for end of season WRSI:\n",
      "    Lower : 0.262\n",
      "    Middle: 0.114\n",
      "    Upper : 0.624\n"
     ]
    },
    {
     "data": {
      "text/plain": [
       "CompletedProcess(args=['python', 'TAMSAT-ALERT_SM_API.V2.py', '-poi_start=2024-03-01', '-poi_end=2024-05-31', '-current_date=2024-04-20', '-clim_years=1991,2020', '-coords=6,-5,32,43', '-weights=0.33,0.34,0.33'], returncode=0)"
      ]
     },
     "execution_count": 16,
     "metadata": {},
     "output_type": "execute_result"
    }
   ],
   "source": [
    "import subprocess\n",
    "\n",
    "# Construct the command with the user inputs\n",
    "command = [\n",
    "    \"python\", \"TAMSAT-ALERT_SM_API.V2.py\",  # Script name\n",
    "    f\"-poi_start={poi_start}\",              # Start of period argument\n",
    "    f\"-poi_end={poi_end}\",                  # End of period argument\n",
    "    f\"-current_date={current_date}\",        # Current date argument\n",
    "    f\"-clim_years={clim_years}\",            # Climatic years argument\n",
    "    f\"-coords={coords}\",                    # Coordinates argument\n",
    "    f\"-weights={weights}\"                   # Weights argument\n",
    "]\n",
    "\n",
    "# Run the command\n",
    "subprocess.run(command)"
   ]
  }
 ],
 "metadata": {
  "kernelspec": {
   "display_name": "Python [conda env:base] *",
   "language": "python",
   "name": "conda-base-py"
  },
  "language_info": {
   "codemirror_mode": {
    "name": "ipython",
    "version": 3
   },
   "file_extension": ".py",
   "mimetype": "text/x-python",
   "name": "python",
   "nbconvert_exporter": "python",
   "pygments_lexer": "ipython3",
   "version": "3.12.7"
  }
 },
 "nbformat": 4,
 "nbformat_minor": 5
}
